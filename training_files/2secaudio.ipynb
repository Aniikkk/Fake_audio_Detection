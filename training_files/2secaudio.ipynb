{
 "cells": [
  {
   "cell_type": "code",
   "execution_count": 2,
   "metadata": {
    "_cell_guid": "b1076dfc-b9ad-4769-8c92-a6c4dae69d19",
    "_uuid": "8f2839f25d086af736a60e9eeb907d3b93b6e0e5",
    "execution": {
     "iopub.execute_input": "2025-04-13T06:41:26.534216Z",
     "iopub.status.busy": "2025-04-13T06:41:26.533920Z",
     "iopub.status.idle": "2025-04-13T06:51:31.007286Z",
     "shell.execute_reply": "2025-04-13T06:51:31.006197Z",
     "shell.execute_reply.started": "2025-04-13T06:41:26.534194Z"
    },
    "trusted": true
   },
   "outputs": [
    {
     "ename": "KeyboardInterrupt",
     "evalue": "",
     "output_type": "error",
     "traceback": [
      "\u001b[0;31m---------------------------------------------------------------------------\u001b[0m",
      "\u001b[0;31mKeyboardInterrupt\u001b[0m                         Traceback (most recent call last)",
      "Cell \u001b[0;32mIn[2], line 13\u001b[0m\n\u001b[1;32m     11\u001b[0m \u001b[38;5;28;01mfrom\u001b[39;00m\u001b[38;5;250m \u001b[39m\u001b[38;5;21;01mtqdm\u001b[39;00m\u001b[38;5;250m \u001b[39m\u001b[38;5;28;01mimport\u001b[39;00m tqdm\n\u001b[1;32m     12\u001b[0m \u001b[38;5;28;01mimport\u001b[39;00m\u001b[38;5;250m \u001b[39m\u001b[38;5;21;01mwarnings\u001b[39;00m\n\u001b[0;32m---> 13\u001b[0m \u001b[38;5;28;01mimport\u001b[39;00m\u001b[38;5;250m \u001b[39m\u001b[38;5;21;01mtensorflow\u001b[39;00m\u001b[38;5;250m \u001b[39m\u001b[38;5;28;01mas\u001b[39;00m\u001b[38;5;250m \u001b[39m\u001b[38;5;21;01mtf\u001b[39;00m  \u001b[38;5;66;03m# For GPU verification\u001b[39;00m\n\u001b[1;32m     14\u001b[0m warnings\u001b[38;5;241m.\u001b[39mfilterwarnings(\u001b[38;5;124m'\u001b[39m\u001b[38;5;124mignore\u001b[39m\u001b[38;5;124m'\u001b[39m)\n\u001b[1;32m     16\u001b[0m \u001b[38;5;66;03m# Enable GPU acceleration for librosa where possible\u001b[39;00m\n",
      "File \u001b[0;32m~/Desktop/PESU/Class/DL/project/venv/lib/python3.10/site-packages/tensorflow/__init__.py:40\u001b[0m\n\u001b[1;32m     37\u001b[0m _os\u001b[38;5;241m.\u001b[39menviron\u001b[38;5;241m.\u001b[39msetdefault(\u001b[38;5;124m\"\u001b[39m\u001b[38;5;124mENABLE_RUNTIME_UPTIME_TELEMETRY\u001b[39m\u001b[38;5;124m\"\u001b[39m, \u001b[38;5;124m\"\u001b[39m\u001b[38;5;124m1\u001b[39m\u001b[38;5;124m\"\u001b[39m)\n\u001b[1;32m     39\u001b[0m \u001b[38;5;66;03m# Do not remove this line; See https://github.com/tensorflow/tensorflow/issues/42596\u001b[39;00m\n\u001b[0;32m---> 40\u001b[0m \u001b[38;5;28;01mfrom\u001b[39;00m\u001b[38;5;250m \u001b[39m\u001b[38;5;21;01mtensorflow\u001b[39;00m\u001b[38;5;21;01m.\u001b[39;00m\u001b[38;5;21;01mpython\u001b[39;00m\u001b[38;5;250m \u001b[39m\u001b[38;5;28;01mimport\u001b[39;00m pywrap_tensorflow \u001b[38;5;28;01mas\u001b[39;00m _pywrap_tensorflow  \u001b[38;5;66;03m# pylint: disable=unused-import\u001b[39;00m\n\u001b[1;32m     41\u001b[0m \u001b[38;5;28;01mfrom\u001b[39;00m\u001b[38;5;250m \u001b[39m\u001b[38;5;21;01mtensorflow\u001b[39;00m\u001b[38;5;21;01m.\u001b[39;00m\u001b[38;5;21;01mpython\u001b[39;00m\u001b[38;5;21;01m.\u001b[39;00m\u001b[38;5;21;01mtools\u001b[39;00m\u001b[38;5;250m \u001b[39m\u001b[38;5;28;01mimport\u001b[39;00m module_util \u001b[38;5;28;01mas\u001b[39;00m _module_util\n\u001b[1;32m     42\u001b[0m \u001b[38;5;28;01mfrom\u001b[39;00m\u001b[38;5;250m \u001b[39m\u001b[38;5;21;01mtensorflow\u001b[39;00m\u001b[38;5;21;01m.\u001b[39;00m\u001b[38;5;21;01mpython\u001b[39;00m\u001b[38;5;21;01m.\u001b[39;00m\u001b[38;5;21;01mutil\u001b[39;00m\u001b[38;5;21;01m.\u001b[39;00m\u001b[38;5;21;01mlazy_loader\u001b[39;00m\u001b[38;5;250m \u001b[39m\u001b[38;5;28;01mimport\u001b[39;00m KerasLazyLoader \u001b[38;5;28;01mas\u001b[39;00m _KerasLazyLoader\n",
      "File \u001b[0;32m~/Desktop/PESU/Class/DL/project/venv/lib/python3.10/site-packages/tensorflow/python/pywrap_tensorflow.py:37\u001b[0m\n\u001b[1;32m     32\u001b[0m \u001b[38;5;28;01mfrom\u001b[39;00m\u001b[38;5;250m \u001b[39m\u001b[38;5;21;01mtensorflow\u001b[39;00m\u001b[38;5;21;01m.\u001b[39;00m\u001b[38;5;21;01mpython\u001b[39;00m\u001b[38;5;21;01m.\u001b[39;00m\u001b[38;5;21;01mplatform\u001b[39;00m\u001b[38;5;250m \u001b[39m\u001b[38;5;28;01mimport\u001b[39;00m self_check\n\u001b[1;32m     34\u001b[0m \u001b[38;5;66;03m# TODO(mdan): Cleanup antipattern: import for side effects.\u001b[39;00m\n\u001b[1;32m     35\u001b[0m \n\u001b[1;32m     36\u001b[0m \u001b[38;5;66;03m# Perform pre-load sanity checks in order to produce a more actionable error.\u001b[39;00m\n\u001b[0;32m---> 37\u001b[0m \u001b[43mself_check\u001b[49m\u001b[38;5;241;43m.\u001b[39;49m\u001b[43mpreload_check\u001b[49m\u001b[43m(\u001b[49m\u001b[43m)\u001b[49m\n\u001b[1;32m     39\u001b[0m \u001b[38;5;66;03m# pylint: disable=wildcard-import,g-import-not-at-top,unused-import,line-too-long\u001b[39;00m\n\u001b[1;32m     41\u001b[0m \u001b[38;5;28;01mtry\u001b[39;00m:\n\u001b[1;32m     42\u001b[0m   \u001b[38;5;66;03m# This import is expected to fail if there is an explicit shared object\u001b[39;00m\n\u001b[1;32m     43\u001b[0m   \u001b[38;5;66;03m# dependency (with_framework_lib=true), since we do not need RTLD_GLOBAL.\u001b[39;00m\n",
      "File \u001b[0;32m~/Desktop/PESU/Class/DL/project/venv/lib/python3.10/site-packages/tensorflow/python/platform/self_check.py:63\u001b[0m, in \u001b[0;36mpreload_check\u001b[0;34m()\u001b[0m\n\u001b[1;32m     50\u001b[0m       \u001b[38;5;28;01mraise\u001b[39;00m \u001b[38;5;167;01mImportError\u001b[39;00m(\n\u001b[1;32m     51\u001b[0m           \u001b[38;5;124m\"\u001b[39m\u001b[38;5;124mCould not find the DLL(s) \u001b[39m\u001b[38;5;132;01m%r\u001b[39;00m\u001b[38;5;124m. TensorFlow requires that these DLLs \u001b[39m\u001b[38;5;124m\"\u001b[39m\n\u001b[1;32m     52\u001b[0m           \u001b[38;5;124m\"\u001b[39m\u001b[38;5;124mbe installed in a directory that is named in your \u001b[39m\u001b[38;5;132;01m%%\u001b[39;00m\u001b[38;5;124mPATH\u001b[39m\u001b[38;5;132;01m%%\u001b[39;00m\u001b[38;5;124m \u001b[39m\u001b[38;5;124m\"\u001b[39m\n\u001b[0;32m   (...)\u001b[0m\n\u001b[1;32m     56\u001b[0m           \u001b[38;5;124m\"\u001b[39m\u001b[38;5;124mhttps://support.microsoft.com/help/2977003/the-latest-supported-visual-c-downloads\u001b[39m\u001b[38;5;124m\"\u001b[39m\n\u001b[1;32m     57\u001b[0m           \u001b[38;5;241m%\u001b[39m \u001b[38;5;124m\"\u001b[39m\u001b[38;5;124m or \u001b[39m\u001b[38;5;124m\"\u001b[39m\u001b[38;5;241m.\u001b[39mjoin(missing))\n\u001b[1;32m     58\u001b[0m \u001b[38;5;28;01melse\u001b[39;00m:\n\u001b[1;32m     59\u001b[0m   \u001b[38;5;66;03m# Load a library that performs CPU feature guard checking.  Doing this here\u001b[39;00m\n\u001b[1;32m     60\u001b[0m   \u001b[38;5;66;03m# as a preload check makes it more likely that we detect any CPU feature\u001b[39;00m\n\u001b[1;32m     61\u001b[0m   \u001b[38;5;66;03m# incompatibilities before we trigger them (which would typically result in\u001b[39;00m\n\u001b[1;32m     62\u001b[0m   \u001b[38;5;66;03m# SIGILL).\u001b[39;00m\n\u001b[0;32m---> 63\u001b[0m   \u001b[38;5;28;01mfrom\u001b[39;00m\u001b[38;5;250m \u001b[39m\u001b[38;5;21;01mtensorflow\u001b[39;00m\u001b[38;5;21;01m.\u001b[39;00m\u001b[38;5;21;01mpython\u001b[39;00m\u001b[38;5;21;01m.\u001b[39;00m\u001b[38;5;21;01mplatform\u001b[39;00m\u001b[38;5;250m \u001b[39m\u001b[38;5;28;01mimport\u001b[39;00m _pywrap_cpu_feature_guard\n\u001b[1;32m     64\u001b[0m   _pywrap_cpu_feature_guard\u001b[38;5;241m.\u001b[39mInfoAboutUnusedCPUFeatures()\n",
      "\u001b[0;31mKeyboardInterrupt\u001b[0m: "
     ]
    }
   ],
   "source": [
    "# GPU-Accelerated Audio Feature Extraction with Fixed File Processing\n",
    "# This notebook extracts features from audio files using GPU acceleration\n",
    "\n",
    "# Install required packages\n",
    "\n",
    "import os\n",
    "import numpy as np\n",
    "import pandas as pd\n",
    "import librosa\n",
    "import time\n",
    "from tqdm import tqdm\n",
    "import warnings\n",
    "import tensorflow as tf  # For GPU verification\n",
    "warnings.filterwarnings('ignore')\n",
    "\n",
    "# Enable GPU acceleration for librosa where possible\n",
    "os.environ['NUMBA_CACHE_DIR'] = '/tmp/numba_cache'\n",
    "os.environ[\"CUDA_VISIBLE_DEVICES\"] = \"0\"  # Use Kaggle's GPU\n",
    "\n",
    "# Define feature extraction function\n",
    "def extract_features(file_path, sample_rate=16000):\n",
    "    \"\"\"\n",
    "    Extract audio features for deepfake detection with GPU acceleration.\n",
    "    \"\"\"\n",
    "    try:\n",
    "        # Load the audio file\n",
    "        y, sr = librosa.load(file_path, sr=sample_rate)\n",
    "        \n",
    "        # Basic MFCC features\n",
    "        mfccs = librosa.feature.mfcc(y=y, sr=sr, n_mfcc=40)\n",
    "        mfccs_mean = np.mean(mfccs.T, axis=0)\n",
    "        \n",
    "        # Chroma features\n",
    "        chroma = librosa.feature.chroma_stft(y=y, sr=sr)\n",
    "        chroma_mean = np.mean(chroma.T, axis=0)\n",
    "        \n",
    "        # Spectral features\n",
    "        spectral_centroids = librosa.feature.spectral_centroid(y=y, sr=sr)\n",
    "        spectral_mean = np.mean(spectral_centroids.T, axis=0)\n",
    "        \n",
    "        # Zero crossing rate\n",
    "        zcr = librosa.feature.zero_crossing_rate(y)\n",
    "        zcr_mean = np.mean(zcr.T, axis=0)\n",
    "        \n",
    "        # Energy/RMS\n",
    "        rms = librosa.feature.rms(y=y)\n",
    "        rms_mean = np.mean(rms.T, axis=0)\n",
    "        \n",
    "        # Combine all features into a single vector\n",
    "        features = np.concatenate([\n",
    "            mfccs_mean,\n",
    "            chroma_mean,\n",
    "            spectral_mean,\n",
    "            zcr_mean,\n",
    "            rms_mean\n",
    "        ])\n",
    "        \n",
    "        return features\n",
    "    \n",
    "    except Exception as e:\n",
    "        print(f\"Error processing {file_path}: {e}\")\n",
    "        return None\n",
    "\n",
    "# FIXED VERSION: Process directory function (direct version without tqdm bug)\n",
    "def process_directory(directory, label, batch_size=16):\n",
    "    \"\"\"\n",
    "    Process all audio files in a directory using batched processing.\n",
    "    Fixed version that properly handles file counts.\n",
    "    \"\"\"\n",
    "    data = []\n",
    "    labels = []\n",
    "    filenames = []\n",
    "    \n",
    "    # Get all audio files\n",
    "    audio_files = []\n",
    "    for f in os.listdir(directory):\n",
    "        if f.lower().endswith(('.wav', '.mp3', '.flac')):\n",
    "            audio_files.append(os.path.join(directory, f))\n",
    "    \n",
    "    total_files = len(audio_files)\n",
    "    print(f\"Processing {total_files} audio files from {os.path.basename(directory)}...\")\n",
    "    \n",
    "    # Process in batches - using direct loop to avoid tqdm issues\n",
    "    processed = 0\n",
    "    start_time = time.time()\n",
    "    \n",
    "    for i in range(0, total_files, batch_size):\n",
    "        # Print progress manually\n",
    "        if i % (batch_size * 10) == 0:\n",
    "            elapsed = time.time() - start_time\n",
    "            if elapsed > 0 and processed > 0:\n",
    "                rate = processed / elapsed\n",
    "                remaining = (total_files - processed) / rate if rate > 0 else 0\n",
    "                print(f\"Progress: {processed}/{total_files} files ({processed/total_files*100:.1f}%) - {rate:.2f} files/sec - Est. remaining: {remaining/60:.1f} min\")\n",
    "        \n",
    "        # Process batch\n",
    "        batch = audio_files[i:i+batch_size]\n",
    "        batch_features = []\n",
    "        batch_filenames = []\n",
    "        \n",
    "        for file_path in batch:\n",
    "            features = extract_features(file_path)\n",
    "            if features is not None:\n",
    "                batch_features.append(features)\n",
    "                batch_filenames.append(os.path.basename(file_path))\n",
    "                processed += 1\n",
    "        \n",
    "        data.extend(batch_features)\n",
    "        labels.extend([label] * len(batch_features))\n",
    "        filenames.extend(batch_filenames)\n",
    "    \n",
    "    # Final progress\n",
    "    elapsed = time.time() - start_time\n",
    "    rate = processed / elapsed if elapsed > 0 else 0\n",
    "    print(f\"Completed: {processed}/{total_files} files processed in {elapsed:.1f} seconds ({rate:.2f} files/sec)\")\n",
    "    \n",
    "    return data, labels, filenames\n",
    "\n",
    "# Main processing function\n",
    "def process_dataset(base_dir, output_dir=\"./extracted_features\"):\n",
    "    \"\"\"\n",
    "    Process the entire dataset structure.\n",
    "    \"\"\"\n",
    "    os.makedirs(output_dir, exist_ok=True)\n",
    "    \n",
    "    # Find all subdivisions (training, validation, testing)\n",
    "    for subset in [\"training\", \"validation\", \"testing\"]:\n",
    "        subset_path = os.path.join(base_dir, subset)\n",
    "        \n",
    "        if not os.path.exists(subset_path):\n",
    "            print(f\"Subset {subset} not found at {subset_path}\")\n",
    "            continue\n",
    "        \n",
    "        # Process real and fake directories\n",
    "        all_data = []\n",
    "        all_labels = []\n",
    "        all_filenames = []\n",
    "        \n",
    "        # Process real audio\n",
    "        real_dir = os.path.join(subset_path, \"real\")\n",
    "        if os.path.exists(real_dir):\n",
    "            print(f\"\\nProcessing real audio in {subset}...\")\n",
    "            start_time = time.time()\n",
    "            real_data, real_labels, real_filenames = process_directory(real_dir, label=0)\n",
    "            all_data.extend(real_data)\n",
    "            all_labels.extend(real_labels)\n",
    "            all_filenames.extend(real_filenames)\n",
    "            duration = time.time() - start_time\n",
    "            print(f\"Processed {len(real_data)} real audio files in {duration:.2f} seconds\")\n",
    "        \n",
    "        # Process fake audio\n",
    "        fake_dir = os.path.join(subset_path, \"fake\")\n",
    "        if os.path.exists(fake_dir):\n",
    "            print(f\"\\nProcessing fake audio in {subset}...\")\n",
    "            start_time = time.time()\n",
    "            fake_data, fake_labels, fake_filenames = process_directory(fake_dir, label=1)\n",
    "            all_data.extend(fake_data)\n",
    "            all_labels.extend(fake_labels)\n",
    "            all_filenames.extend(fake_filenames)\n",
    "            duration = time.time() - start_time\n",
    "            print(f\"Processed {len(fake_data)} fake audio files in {duration:.2f} seconds\")\n",
    "        \n",
    "        # Save to CSV if we have data\n",
    "        if all_data:\n",
    "            # Convert to DataFrame\n",
    "            feature_cols = [f'feature_{i}' for i in range(len(all_data[0]))]\n",
    "            df = pd.DataFrame(all_data, columns=feature_cols)\n",
    "            df['label'] = all_labels\n",
    "            df['filename'] = all_filenames\n",
    "            \n",
    "            # Save to CSV\n",
    "            output_file = os.path.join(output_dir, f\"{subset}_features.csv\")\n",
    "            df.to_csv(output_file, index=False)\n",
    "            print(f\"Saved {len(df)} samples to {output_file}\")\n",
    "\n",
    "# ----------------------------------------\n",
    "# Main execution\n",
    "# ----------------------------------------\n",
    "\n",
    "# Set path to dataset\n",
    "BASE_DIR = \"../input/the-fake-or-real-dataset/for-2sec/for-2seconds\"\n",
    "OUTPUT_DIR = \"./extracted_features\"\n",
    "\n",
    "# Print dataset summary (counts only)\n",
    "print(\"Dataset summary:\")\n",
    "for subset in [\"training\", \"validation\", \"testing\"]:\n",
    "    subset_path = os.path.join(BASE_DIR, subset)\n",
    "    \n",
    "    if not os.path.exists(subset_path):\n",
    "        print(f\"  - {subset}: Directory not found\")\n",
    "        continue\n",
    "        \n",
    "    print(f\"  - {subset}:\")\n",
    "    \n",
    "    # Check real directory\n",
    "    real_dir = os.path.join(subset_path, \"real\")\n",
    "    if os.path.exists(real_dir):\n",
    "        real_files = [f for f in os.listdir(real_dir) if f.lower().endswith(('.wav', '.mp3', '.flac'))]\n",
    "        print(f\"    - real: {len(real_files)} audio files\")\n",
    "    \n",
    "    # Check fake directory\n",
    "    fake_dir = os.path.join(subset_path, \"fake\")\n",
    "    if os.path.exists(fake_dir):\n",
    "        fake_files = [f for f in os.listdir(fake_dir) if f.lower().endswith(('.wav', '.mp3', '.flac'))]\n",
    "        print(f\"    - fake: {len(fake_files)} audio files\")\n",
    "\n",
    "# Test extraction on a single file\n",
    "print(\"\\nTesting feature extraction on a sample file...\")\n",
    "test_file = None\n",
    "for root, dirs, files in os.walk(BASE_DIR):\n",
    "    for file in files:\n",
    "        if file.lower().endswith(('.wav', '.mp3', '.flac')):\n",
    "            test_file = os.path.join(root, file)\n",
    "            break\n",
    "    if test_file:\n",
    "        break\n",
    "\n",
    "if test_file:\n",
    "    print(f\"Testing with {test_file}\")\n",
    "    features = extract_features(test_file)\n",
    "    if features is not None:\n",
    "        print(f\"Success! Extracted {len(features)} features.\")\n",
    "        print(f\"Feature shape: {features.shape}\")\n",
    "        print(\"Starting full extraction...\")\n",
    "        \n",
    "        # Run the full feature extraction\n",
    "        process_dataset(BASE_DIR, OUTPUT_DIR)\n",
    "        \n",
    "        # Create zip file of features for download\n",
    "        print(\"\\nCreating zip file...\")\n",
    "        !zip -r extracted_features.zip {OUTPUT_DIR}\n",
    "        \n",
    "        print(\"\\nFeature extraction complete!\")\n",
    "        print(\"You can now download the zip file from the output tab.\")\n",
    "    else:\n",
    "        print(\"Feature extraction test failed.\")\n",
    "else:\n",
    "    print(\"No audio files found for testing.\")"
   ]
  },
  {
   "cell_type": "code",
   "execution_count": 7,
   "metadata": {
    "execution": {
     "iopub.execute_input": "2025-04-13T07:02:41.217831Z",
     "iopub.status.busy": "2025-04-13T07:02:41.217463Z",
     "iopub.status.idle": "2025-04-13T07:02:42.155284Z",
     "shell.execute_reply": "2025-04-13T07:02:42.154724Z",
     "shell.execute_reply.started": "2025-04-13T07:02:41.217803Z"
    },
    "trusted": true
   },
   "outputs": [],
   "source": [
    "import os\n",
    "import numpy as np\n",
    "import pandas as pd\n",
    "import matplotlib.pyplot as plt\n",
    "import seaborn as sns\n",
    "from sklearn.preprocessing import StandardScaler\n",
    "from sklearn.metrics import classification_report, confusion_matrix, accuracy_score, roc_curve, auc\n",
    "import tensorflow as tf\n",
    "from tensorflow.keras.models import Sequential\n",
    "from tensorflow.keras.layers import Dense, Dropout, BatchNormalization\n",
    "from tensorflow.keras.callbacks import EarlyStopping, ModelCheckpoint, ReduceLROnPlateau\n",
    "import joblib\n",
    "\n",
    "# Set random seeds for reproducibility\n",
    "np.random.seed(42)\n",
    "tf.random.set_seed(42)"
   ]
  },
  {
   "cell_type": "code",
   "execution_count": 8,
   "metadata": {
    "execution": {
     "iopub.execute_input": "2025-04-13T07:04:18.218393Z",
     "iopub.status.busy": "2025-04-13T07:04:18.217162Z",
     "iopub.status.idle": "2025-04-13T07:04:18.562435Z",
     "shell.execute_reply": "2025-04-13T07:04:18.561783Z",
     "shell.execute_reply.started": "2025-04-13T07:04:18.218346Z"
    },
    "trusted": true
   },
   "outputs": [
    {
     "name": "stdout",
     "output_type": "stream",
     "text": [
      "Loading data...\n",
      "Training data shape: (13956, 57)\n",
      "Validation data shape: (2826, 57)\n",
      "Test data shape: (1088, 57)\n"
     ]
    },
    {
     "data": {
      "text/html": [
       "<div>\n",
       "<style scoped>\n",
       "    .dataframe tbody tr th:only-of-type {\n",
       "        vertical-align: middle;\n",
       "    }\n",
       "\n",
       "    .dataframe tbody tr th {\n",
       "        vertical-align: top;\n",
       "    }\n",
       "\n",
       "    .dataframe thead th {\n",
       "        text-align: right;\n",
       "    }\n",
       "</style>\n",
       "<table border=\"1\" class=\"dataframe\">\n",
       "  <thead>\n",
       "    <tr style=\"text-align: right;\">\n",
       "      <th></th>\n",
       "      <th>feature_0</th>\n",
       "      <th>feature_1</th>\n",
       "      <th>feature_2</th>\n",
       "      <th>feature_3</th>\n",
       "      <th>feature_4</th>\n",
       "      <th>feature_5</th>\n",
       "      <th>feature_6</th>\n",
       "      <th>feature_7</th>\n",
       "      <th>feature_8</th>\n",
       "      <th>feature_9</th>\n",
       "      <th>...</th>\n",
       "      <th>feature_47</th>\n",
       "      <th>feature_48</th>\n",
       "      <th>feature_49</th>\n",
       "      <th>feature_50</th>\n",
       "      <th>feature_51</th>\n",
       "      <th>feature_52</th>\n",
       "      <th>feature_53</th>\n",
       "      <th>feature_54</th>\n",
       "      <th>label</th>\n",
       "      <th>filename</th>\n",
       "    </tr>\n",
       "  </thead>\n",
       "  <tbody>\n",
       "    <tr>\n",
       "      <th>0</th>\n",
       "      <td>-195.640671</td>\n",
       "      <td>167.910507</td>\n",
       "      <td>-70.272766</td>\n",
       "      <td>39.673054</td>\n",
       "      <td>5.309880</td>\n",
       "      <td>-21.347656</td>\n",
       "      <td>1.462397</td>\n",
       "      <td>-37.625446</td>\n",
       "      <td>-15.222323</td>\n",
       "      <td>-8.965453</td>\n",
       "      <td>...</td>\n",
       "      <td>0.407468</td>\n",
       "      <td>0.525411</td>\n",
       "      <td>0.460758</td>\n",
       "      <td>0.287813</td>\n",
       "      <td>0.302367</td>\n",
       "      <td>1057.705676</td>\n",
       "      <td>0.108755</td>\n",
       "      <td>0.118057</td>\n",
       "      <td>0</td>\n",
       "      <td>file26954.wav_16k.wav_norm.wav_mono.wav_silenc...</td>\n",
       "    </tr>\n",
       "    <tr>\n",
       "      <th>1</th>\n",
       "      <td>-134.341339</td>\n",
       "      <td>123.963821</td>\n",
       "      <td>-18.347830</td>\n",
       "      <td>38.309132</td>\n",
       "      <td>-1.361740</td>\n",
       "      <td>-8.420963</td>\n",
       "      <td>16.068312</td>\n",
       "      <td>-8.472509</td>\n",
       "      <td>-4.602731</td>\n",
       "      <td>-1.791206</td>\n",
       "      <td>...</td>\n",
       "      <td>0.354793</td>\n",
       "      <td>0.463510</td>\n",
       "      <td>0.402069</td>\n",
       "      <td>0.334473</td>\n",
       "      <td>0.419588</td>\n",
       "      <td>1308.476998</td>\n",
       "      <td>0.079350</td>\n",
       "      <td>0.171972</td>\n",
       "      <td>0</td>\n",
       "      <td>file20661.wav_16k.wav_norm.wav_mono.wav_silenc...</td>\n",
       "    </tr>\n",
       "    <tr>\n",
       "      <th>2</th>\n",
       "      <td>-249.453308</td>\n",
       "      <td>62.038654</td>\n",
       "      <td>5.144326</td>\n",
       "      <td>2.348206</td>\n",
       "      <td>-14.346089</td>\n",
       "      <td>-16.478830</td>\n",
       "      <td>-23.544563</td>\n",
       "      <td>-20.526354</td>\n",
       "      <td>1.442770</td>\n",
       "      <td>-18.709812</td>\n",
       "      <td>...</td>\n",
       "      <td>0.255598</td>\n",
       "      <td>0.254178</td>\n",
       "      <td>0.444404</td>\n",
       "      <td>0.503706</td>\n",
       "      <td>0.464341</td>\n",
       "      <td>2449.924753</td>\n",
       "      <td>0.220618</td>\n",
       "      <td>0.087257</td>\n",
       "      <td>0</td>\n",
       "      <td>file1603.wav_16k.wav_norm.wav_mono.wav_silence...</td>\n",
       "    </tr>\n",
       "    <tr>\n",
       "      <th>3</th>\n",
       "      <td>-175.063461</td>\n",
       "      <td>90.332993</td>\n",
       "      <td>-11.622402</td>\n",
       "      <td>-7.943896</td>\n",
       "      <td>-31.781181</td>\n",
       "      <td>-19.183908</td>\n",
       "      <td>-24.660803</td>\n",
       "      <td>-22.064539</td>\n",
       "      <td>-1.707203</td>\n",
       "      <td>-13.132598</td>\n",
       "      <td>...</td>\n",
       "      <td>0.223217</td>\n",
       "      <td>0.249099</td>\n",
       "      <td>0.384171</td>\n",
       "      <td>0.467234</td>\n",
       "      <td>0.369766</td>\n",
       "      <td>2030.904568</td>\n",
       "      <td>0.196553</td>\n",
       "      <td>0.128912</td>\n",
       "      <td>0</td>\n",
       "      <td>file8436.wav_16k.wav_norm.wav_mono.wav_silence...</td>\n",
       "    </tr>\n",
       "    <tr>\n",
       "      <th>4</th>\n",
       "      <td>-185.658524</td>\n",
       "      <td>84.165359</td>\n",
       "      <td>18.263103</td>\n",
       "      <td>31.042599</td>\n",
       "      <td>-12.358898</td>\n",
       "      <td>7.237917</td>\n",
       "      <td>-15.485649</td>\n",
       "      <td>-9.498494</td>\n",
       "      <td>-12.813581</td>\n",
       "      <td>-7.642183</td>\n",
       "      <td>...</td>\n",
       "      <td>0.444537</td>\n",
       "      <td>0.516055</td>\n",
       "      <td>0.330328</td>\n",
       "      <td>0.124928</td>\n",
       "      <td>0.063767</td>\n",
       "      <td>1599.921676</td>\n",
       "      <td>0.115320</td>\n",
       "      <td>0.259067</td>\n",
       "      <td>0</td>\n",
       "      <td>file11300.wav_16k.wav_norm.wav_mono.wav_silenc...</td>\n",
       "    </tr>\n",
       "  </tbody>\n",
       "</table>\n",
       "<p>5 rows × 57 columns</p>\n",
       "</div>"
      ],
      "text/plain": [
       "    feature_0   feature_1  feature_2  feature_3  feature_4  feature_5  \\\n",
       "0 -195.640671  167.910507 -70.272766  39.673054   5.309880 -21.347656   \n",
       "1 -134.341339  123.963821 -18.347830  38.309132  -1.361740  -8.420963   \n",
       "2 -249.453308   62.038654   5.144326   2.348206 -14.346089 -16.478830   \n",
       "3 -175.063461   90.332993 -11.622402  -7.943896 -31.781181 -19.183908   \n",
       "4 -185.658524   84.165359  18.263103  31.042599 -12.358898   7.237917   \n",
       "\n",
       "   feature_6  feature_7  feature_8  feature_9  ...  feature_47  feature_48  \\\n",
       "0   1.462397 -37.625446 -15.222323  -8.965453  ...    0.407468    0.525411   \n",
       "1  16.068312  -8.472509  -4.602731  -1.791206  ...    0.354793    0.463510   \n",
       "2 -23.544563 -20.526354   1.442770 -18.709812  ...    0.255598    0.254178   \n",
       "3 -24.660803 -22.064539  -1.707203 -13.132598  ...    0.223217    0.249099   \n",
       "4 -15.485649  -9.498494 -12.813581  -7.642183  ...    0.444537    0.516055   \n",
       "\n",
       "   feature_49  feature_50  feature_51   feature_52  feature_53  feature_54  \\\n",
       "0    0.460758    0.287813    0.302367  1057.705676    0.108755    0.118057   \n",
       "1    0.402069    0.334473    0.419588  1308.476998    0.079350    0.171972   \n",
       "2    0.444404    0.503706    0.464341  2449.924753    0.220618    0.087257   \n",
       "3    0.384171    0.467234    0.369766  2030.904568    0.196553    0.128912   \n",
       "4    0.330328    0.124928    0.063767  1599.921676    0.115320    0.259067   \n",
       "\n",
       "   label                                           filename  \n",
       "0      0  file26954.wav_16k.wav_norm.wav_mono.wav_silenc...  \n",
       "1      0  file20661.wav_16k.wav_norm.wav_mono.wav_silenc...  \n",
       "2      0  file1603.wav_16k.wav_norm.wav_mono.wav_silence...  \n",
       "3      0  file8436.wav_16k.wav_norm.wav_mono.wav_silence...  \n",
       "4      0  file11300.wav_16k.wav_norm.wav_mono.wav_silenc...  \n",
       "\n",
       "[5 rows x 57 columns]"
      ]
     },
     "execution_count": 8,
     "metadata": {},
     "output_type": "execute_result"
    }
   ],
   "source": [
    "# Set the path to your CSV files - update this to where you extracted the zip file\n",
    "data_dir = \"extracted_features\"\n",
    "\n",
    "# Load the CSV files\n",
    "print(\"Loading data...\")\n",
    "train_data = pd.read_csv(os.path.join(data_dir, 'training_features.csv'))\n",
    "val_data = pd.read_csv(os.path.join(data_dir, 'validation_features.csv'))\n",
    "test_data = pd.read_csv(os.path.join(data_dir, 'testing_features.csv'))\n",
    "\n",
    "# Check the data\n",
    "print(f\"Training data shape: {train_data.shape}\")\n",
    "print(f\"Validation data shape: {val_data.shape}\")\n",
    "print(f\"Test data shape: {test_data.shape}\")\n",
    "\n",
    "# Display sample data\n",
    "train_data.head()"
   ]
  },
  {
   "cell_type": "code",
   "execution_count": 9,
   "metadata": {
    "execution": {
     "iopub.execute_input": "2025-04-13T07:04:35.242994Z",
     "iopub.status.busy": "2025-04-13T07:04:35.242296Z",
     "iopub.status.idle": "2025-04-13T07:04:35.271925Z",
     "shell.execute_reply": "2025-04-13T07:04:35.271130Z",
     "shell.execute_reply.started": "2025-04-13T07:04:35.242969Z"
    },
    "trusted": true
   },
   "outputs": [
    {
     "name": "stdout",
     "output_type": "stream",
     "text": [
      "Class distribution:\n",
      "Training set:\n",
      "label\n",
      "0    6978\n",
      "1    6978\n",
      "Name: count, dtype: int64\n",
      "\n",
      "Validation set:\n",
      "label\n",
      "0    1413\n",
      "1    1413\n",
      "Name: count, dtype: int64\n",
      "\n",
      "Test set:\n",
      "label\n",
      "0    544\n",
      "1    544\n",
      "Name: count, dtype: int64\n"
     ]
    }
   ],
   "source": [
    "# Check class distribution\n",
    "print(\"Class distribution:\")\n",
    "print(\"Training set:\")\n",
    "print(train_data['label'].value_counts())\n",
    "print(\"\\nValidation set:\")\n",
    "print(val_data['label'].value_counts())\n",
    "print(\"\\nTest set:\")\n",
    "print(test_data['label'].value_counts())"
   ]
  },
  {
   "cell_type": "code",
   "execution_count": 10,
   "metadata": {
    "execution": {
     "iopub.execute_input": "2025-04-13T07:04:48.587372Z",
     "iopub.status.busy": "2025-04-13T07:04:48.586869Z",
     "iopub.status.idle": "2025-04-13T07:04:48.609520Z",
     "shell.execute_reply": "2025-04-13T07:04:48.608882Z",
     "shell.execute_reply.started": "2025-04-13T07:04:48.587347Z"
    },
    "trusted": true
   },
   "outputs": [
    {
     "name": "stdout",
     "output_type": "stream",
     "text": [
      "Number of features: 55\n",
      "Training set: 13956 samples\n",
      "Validation set: 2826 samples\n",
      "Test set: 1088 samples\n"
     ]
    }
   ],
   "source": [
    "# Separate features from labels\n",
    "feature_cols = [col for col in train_data.columns if col.startswith('feature_')]\n",
    "print(f\"Number of features: {len(feature_cols)}\")\n",
    "\n",
    "X_train = train_data[feature_cols].values\n",
    "y_train = train_data['label'].values\n",
    "X_val = val_data[feature_cols].values\n",
    "y_val = val_data['label'].values\n",
    "X_test = test_data[feature_cols].values\n",
    "y_test = test_data['label'].values\n",
    "\n",
    "print(f\"Training set: {X_train.shape[0]} samples\")\n",
    "print(f\"Validation set: {X_val.shape[0]} samples\")\n",
    "print(f\"Test set: {X_test.shape[0]} samples\")"
   ]
  },
  {
   "cell_type": "code",
   "execution_count": 11,
   "metadata": {
    "execution": {
     "iopub.execute_input": "2025-04-13T07:05:03.677983Z",
     "iopub.status.busy": "2025-04-13T07:05:03.677255Z",
     "iopub.status.idle": "2025-04-13T07:05:03.707537Z",
     "shell.execute_reply": "2025-04-13T07:05:03.706870Z",
     "shell.execute_reply.started": "2025-04-13T07:05:03.677960Z"
    },
    "trusted": true
   },
   "outputs": [
    {
     "name": "stdout",
     "output_type": "stream",
     "text": [
      "Scaler saved to 'audio_deepfake_scaler.pkl'\n"
     ]
    }
   ],
   "source": [
    "# Scale the features\n",
    "scaler = StandardScaler()\n",
    "X_train_scaled = scaler.fit_transform(X_train)\n",
    "X_val_scaled = scaler.transform(X_val)\n",
    "X_test_scaled = scaler.transform(X_test)\n",
    "\n",
    "# Save the scaler\n",
    "joblib.dump(scaler, 'audio_deepfake_scaler.pkl')\n",
    "print(\"Scaler saved to 'audio_deepfake_scaler.pkl'\")"
   ]
  },
  {
   "cell_type": "code",
   "execution_count": 13,
   "metadata": {
    "execution": {
     "iopub.execute_input": "2025-04-13T07:06:02.297745Z",
     "iopub.status.busy": "2025-04-13T07:06:02.297255Z",
     "iopub.status.idle": "2025-04-13T07:06:02.301475Z",
     "shell.execute_reply": "2025-04-13T07:06:02.300871Z",
     "shell.execute_reply.started": "2025-04-13T07:06:02.297721Z"
    },
    "trusted": true
   },
   "outputs": [],
   "source": [
    "# # Analyze a few important features\n",
    "# def plot_feature_distributions(feature_idx, feature_name):\n",
    "#     plt.figure(figsize=(12, 5))\n",
    "    \n",
    "#     plt.subplot(1, 2, 1)\n",
    "#     sns.histplot(X_train[y_train==0, feature_idx], label='Real', alpha=0.6, color='blue')\n",
    "#     sns.histplot(X_train[y_train==1, feature_idx], label='Fake', alpha=0.6, color='red')\n",
    "#     plt.title(f\"{feature_name} Distribution\")\n",
    "#     plt.xlabel(feature_name)\n",
    "#     plt.legend()\n",
    "    \n",
    "#     plt.subplot(1, 2, 2)\n",
    "#     sns.boxplot(x=train_data['label'], y=train_data[f'feature_{feature_idx}'])\n",
    "#     plt.title(f\"{feature_name} by Class\")\n",
    "#     plt.xticks([0, 1], ['Real', 'Fake'])\n",
    "#     plt.xlabel('Class')\n",
    "#     plt.ylabel(feature_name)\n",
    "    \n",
    "#     plt.tight_layout()\n",
    "#     plt.show()\n",
    "\n",
    "# # Plot a few interesting features\n",
    "# plot_feature_distributions(0, \"MFCC 1\")\n",
    "# plot_feature_distributions(1, \"MFCC 2\")\n",
    "# plot_feature_distributions(40, \"Chroma 1\")\n",
    "# plot_feature_distributions(52, \"Spectral Centroid\")\n",
    "# plot_feature_distributions(53, \"Zero Crossing Rate\")\n",
    "# plot_feature_distributions(54, \"RMS Energy\")"
   ]
  },
  {
   "cell_type": "code",
   "execution_count": 14,
   "metadata": {
    "execution": {
     "iopub.execute_input": "2025-04-13T07:06:14.482533Z",
     "iopub.status.busy": "2025-04-13T07:06:14.481975Z",
     "iopub.status.idle": "2025-04-13T07:06:17.122208Z",
     "shell.execute_reply": "2025-04-13T07:06:17.121666Z",
     "shell.execute_reply.started": "2025-04-13T07:06:14.482511Z"
    },
    "trusted": true
   },
   "outputs": [
    {
     "name": "stderr",
     "output_type": "stream",
     "text": [
      "I0000 00:00:1744527974.490777      31 gpu_device.cc:2022] Created device /job:localhost/replica:0/task:0/device:GPU:0 with 13942 MB memory:  -> device: 0, name: Tesla T4, pci bus id: 0000:00:04.0, compute capability: 7.5\n"
     ]
    },
    {
     "data": {
      "text/html": [
       "<pre style=\"white-space:pre;overflow-x:auto;line-height:normal;font-family:Menlo,'DejaVu Sans Mono',consolas,'Courier New',monospace\"><span style=\"font-weight: bold\">Model: \"sequential\"</span>\n",
       "</pre>\n"
      ],
      "text/plain": [
       "\u001b[1mModel: \"sequential\"\u001b[0m\n"
      ]
     },
     "metadata": {},
     "output_type": "display_data"
    },
    {
     "data": {
      "text/html": [
       "<pre style=\"white-space:pre;overflow-x:auto;line-height:normal;font-family:Menlo,'DejaVu Sans Mono',consolas,'Courier New',monospace\">┏━━━━━━━━━━━━━━━━━━━━━━━━━━━━━━━━━━━━━━┳━━━━━━━━━━━━━━━━━━━━━━━━━━━━━┳━━━━━━━━━━━━━━━━━┓\n",
       "┃<span style=\"font-weight: bold\"> Layer (type)                         </span>┃<span style=\"font-weight: bold\"> Output Shape                </span>┃<span style=\"font-weight: bold\">         Param # </span>┃\n",
       "┡━━━━━━━━━━━━━━━━━━━━━━━━━━━━━━━━━━━━━━╇━━━━━━━━━━━━━━━━━━━━━━━━━━━━━╇━━━━━━━━━━━━━━━━━┩\n",
       "│ dense (<span style=\"color: #0087ff; text-decoration-color: #0087ff\">Dense</span>)                        │ (<span style=\"color: #00d7ff; text-decoration-color: #00d7ff\">None</span>, <span style=\"color: #00af00; text-decoration-color: #00af00\">256</span>)                 │          <span style=\"color: #00af00; text-decoration-color: #00af00\">14,336</span> │\n",
       "├──────────────────────────────────────┼─────────────────────────────┼─────────────────┤\n",
       "│ batch_normalization                  │ (<span style=\"color: #00d7ff; text-decoration-color: #00d7ff\">None</span>, <span style=\"color: #00af00; text-decoration-color: #00af00\">256</span>)                 │           <span style=\"color: #00af00; text-decoration-color: #00af00\">1,024</span> │\n",
       "│ (<span style=\"color: #0087ff; text-decoration-color: #0087ff\">BatchNormalization</span>)                 │                             │                 │\n",
       "├──────────────────────────────────────┼─────────────────────────────┼─────────────────┤\n",
       "│ dropout (<span style=\"color: #0087ff; text-decoration-color: #0087ff\">Dropout</span>)                    │ (<span style=\"color: #00d7ff; text-decoration-color: #00d7ff\">None</span>, <span style=\"color: #00af00; text-decoration-color: #00af00\">256</span>)                 │               <span style=\"color: #00af00; text-decoration-color: #00af00\">0</span> │\n",
       "├──────────────────────────────────────┼─────────────────────────────┼─────────────────┤\n",
       "│ dense_1 (<span style=\"color: #0087ff; text-decoration-color: #0087ff\">Dense</span>)                      │ (<span style=\"color: #00d7ff; text-decoration-color: #00d7ff\">None</span>, <span style=\"color: #00af00; text-decoration-color: #00af00\">128</span>)                 │          <span style=\"color: #00af00; text-decoration-color: #00af00\">32,896</span> │\n",
       "├──────────────────────────────────────┼─────────────────────────────┼─────────────────┤\n",
       "│ batch_normalization_1                │ (<span style=\"color: #00d7ff; text-decoration-color: #00d7ff\">None</span>, <span style=\"color: #00af00; text-decoration-color: #00af00\">128</span>)                 │             <span style=\"color: #00af00; text-decoration-color: #00af00\">512</span> │\n",
       "│ (<span style=\"color: #0087ff; text-decoration-color: #0087ff\">BatchNormalization</span>)                 │                             │                 │\n",
       "├──────────────────────────────────────┼─────────────────────────────┼─────────────────┤\n",
       "│ dropout_1 (<span style=\"color: #0087ff; text-decoration-color: #0087ff\">Dropout</span>)                  │ (<span style=\"color: #00d7ff; text-decoration-color: #00d7ff\">None</span>, <span style=\"color: #00af00; text-decoration-color: #00af00\">128</span>)                 │               <span style=\"color: #00af00; text-decoration-color: #00af00\">0</span> │\n",
       "├──────────────────────────────────────┼─────────────────────────────┼─────────────────┤\n",
       "│ dense_2 (<span style=\"color: #0087ff; text-decoration-color: #0087ff\">Dense</span>)                      │ (<span style=\"color: #00d7ff; text-decoration-color: #00d7ff\">None</span>, <span style=\"color: #00af00; text-decoration-color: #00af00\">64</span>)                  │           <span style=\"color: #00af00; text-decoration-color: #00af00\">8,256</span> │\n",
       "├──────────────────────────────────────┼─────────────────────────────┼─────────────────┤\n",
       "│ batch_normalization_2                │ (<span style=\"color: #00d7ff; text-decoration-color: #00d7ff\">None</span>, <span style=\"color: #00af00; text-decoration-color: #00af00\">64</span>)                  │             <span style=\"color: #00af00; text-decoration-color: #00af00\">256</span> │\n",
       "│ (<span style=\"color: #0087ff; text-decoration-color: #0087ff\">BatchNormalization</span>)                 │                             │                 │\n",
       "├──────────────────────────────────────┼─────────────────────────────┼─────────────────┤\n",
       "│ dropout_2 (<span style=\"color: #0087ff; text-decoration-color: #0087ff\">Dropout</span>)                  │ (<span style=\"color: #00d7ff; text-decoration-color: #00d7ff\">None</span>, <span style=\"color: #00af00; text-decoration-color: #00af00\">64</span>)                  │               <span style=\"color: #00af00; text-decoration-color: #00af00\">0</span> │\n",
       "├──────────────────────────────────────┼─────────────────────────────┼─────────────────┤\n",
       "│ dense_3 (<span style=\"color: #0087ff; text-decoration-color: #0087ff\">Dense</span>)                      │ (<span style=\"color: #00d7ff; text-decoration-color: #00d7ff\">None</span>, <span style=\"color: #00af00; text-decoration-color: #00af00\">1</span>)                   │              <span style=\"color: #00af00; text-decoration-color: #00af00\">65</span> │\n",
       "└──────────────────────────────────────┴─────────────────────────────┴─────────────────┘\n",
       "</pre>\n"
      ],
      "text/plain": [
       "┏━━━━━━━━━━━━━━━━━━━━━━━━━━━━━━━━━━━━━━┳━━━━━━━━━━━━━━━━━━━━━━━━━━━━━┳━━━━━━━━━━━━━━━━━┓\n",
       "┃\u001b[1m \u001b[0m\u001b[1mLayer (type)                        \u001b[0m\u001b[1m \u001b[0m┃\u001b[1m \u001b[0m\u001b[1mOutput Shape               \u001b[0m\u001b[1m \u001b[0m┃\u001b[1m \u001b[0m\u001b[1m        Param #\u001b[0m\u001b[1m \u001b[0m┃\n",
       "┡━━━━━━━━━━━━━━━━━━━━━━━━━━━━━━━━━━━━━━╇━━━━━━━━━━━━━━━━━━━━━━━━━━━━━╇━━━━━━━━━━━━━━━━━┩\n",
       "│ dense (\u001b[38;5;33mDense\u001b[0m)                        │ (\u001b[38;5;45mNone\u001b[0m, \u001b[38;5;34m256\u001b[0m)                 │          \u001b[38;5;34m14,336\u001b[0m │\n",
       "├──────────────────────────────────────┼─────────────────────────────┼─────────────────┤\n",
       "│ batch_normalization                  │ (\u001b[38;5;45mNone\u001b[0m, \u001b[38;5;34m256\u001b[0m)                 │           \u001b[38;5;34m1,024\u001b[0m │\n",
       "│ (\u001b[38;5;33mBatchNormalization\u001b[0m)                 │                             │                 │\n",
       "├──────────────────────────────────────┼─────────────────────────────┼─────────────────┤\n",
       "│ dropout (\u001b[38;5;33mDropout\u001b[0m)                    │ (\u001b[38;5;45mNone\u001b[0m, \u001b[38;5;34m256\u001b[0m)                 │               \u001b[38;5;34m0\u001b[0m │\n",
       "├──────────────────────────────────────┼─────────────────────────────┼─────────────────┤\n",
       "│ dense_1 (\u001b[38;5;33mDense\u001b[0m)                      │ (\u001b[38;5;45mNone\u001b[0m, \u001b[38;5;34m128\u001b[0m)                 │          \u001b[38;5;34m32,896\u001b[0m │\n",
       "├──────────────────────────────────────┼─────────────────────────────┼─────────────────┤\n",
       "│ batch_normalization_1                │ (\u001b[38;5;45mNone\u001b[0m, \u001b[38;5;34m128\u001b[0m)                 │             \u001b[38;5;34m512\u001b[0m │\n",
       "│ (\u001b[38;5;33mBatchNormalization\u001b[0m)                 │                             │                 │\n",
       "├──────────────────────────────────────┼─────────────────────────────┼─────────────────┤\n",
       "│ dropout_1 (\u001b[38;5;33mDropout\u001b[0m)                  │ (\u001b[38;5;45mNone\u001b[0m, \u001b[38;5;34m128\u001b[0m)                 │               \u001b[38;5;34m0\u001b[0m │\n",
       "├──────────────────────────────────────┼─────────────────────────────┼─────────────────┤\n",
       "│ dense_2 (\u001b[38;5;33mDense\u001b[0m)                      │ (\u001b[38;5;45mNone\u001b[0m, \u001b[38;5;34m64\u001b[0m)                  │           \u001b[38;5;34m8,256\u001b[0m │\n",
       "├──────────────────────────────────────┼─────────────────────────────┼─────────────────┤\n",
       "│ batch_normalization_2                │ (\u001b[38;5;45mNone\u001b[0m, \u001b[38;5;34m64\u001b[0m)                  │             \u001b[38;5;34m256\u001b[0m │\n",
       "│ (\u001b[38;5;33mBatchNormalization\u001b[0m)                 │                             │                 │\n",
       "├──────────────────────────────────────┼─────────────────────────────┼─────────────────┤\n",
       "│ dropout_2 (\u001b[38;5;33mDropout\u001b[0m)                  │ (\u001b[38;5;45mNone\u001b[0m, \u001b[38;5;34m64\u001b[0m)                  │               \u001b[38;5;34m0\u001b[0m │\n",
       "├──────────────────────────────────────┼─────────────────────────────┼─────────────────┤\n",
       "│ dense_3 (\u001b[38;5;33mDense\u001b[0m)                      │ (\u001b[38;5;45mNone\u001b[0m, \u001b[38;5;34m1\u001b[0m)                   │              \u001b[38;5;34m65\u001b[0m │\n",
       "└──────────────────────────────────────┴─────────────────────────────┴─────────────────┘\n"
      ]
     },
     "metadata": {},
     "output_type": "display_data"
    },
    {
     "data": {
      "text/html": [
       "<pre style=\"white-space:pre;overflow-x:auto;line-height:normal;font-family:Menlo,'DejaVu Sans Mono',consolas,'Courier New',monospace\"><span style=\"font-weight: bold\"> Total params: </span><span style=\"color: #00af00; text-decoration-color: #00af00\">57,345</span> (224.00 KB)\n",
       "</pre>\n"
      ],
      "text/plain": [
       "\u001b[1m Total params: \u001b[0m\u001b[38;5;34m57,345\u001b[0m (224.00 KB)\n"
      ]
     },
     "metadata": {},
     "output_type": "display_data"
    },
    {
     "data": {
      "text/html": [
       "<pre style=\"white-space:pre;overflow-x:auto;line-height:normal;font-family:Menlo,'DejaVu Sans Mono',consolas,'Courier New',monospace\"><span style=\"font-weight: bold\"> Trainable params: </span><span style=\"color: #00af00; text-decoration-color: #00af00\">56,449</span> (220.50 KB)\n",
       "</pre>\n"
      ],
      "text/plain": [
       "\u001b[1m Trainable params: \u001b[0m\u001b[38;5;34m56,449\u001b[0m (220.50 KB)\n"
      ]
     },
     "metadata": {},
     "output_type": "display_data"
    },
    {
     "data": {
      "text/html": [
       "<pre style=\"white-space:pre;overflow-x:auto;line-height:normal;font-family:Menlo,'DejaVu Sans Mono',consolas,'Courier New',monospace\"><span style=\"font-weight: bold\"> Non-trainable params: </span><span style=\"color: #00af00; text-decoration-color: #00af00\">896</span> (3.50 KB)\n",
       "</pre>\n"
      ],
      "text/plain": [
       "\u001b[1m Non-trainable params: \u001b[0m\u001b[38;5;34m896\u001b[0m (3.50 KB)\n"
      ]
     },
     "metadata": {},
     "output_type": "display_data"
    }
   ],
   "source": [
    "# Build model\n",
    "def build_model(input_shape):\n",
    "    model = Sequential([\n",
    "        # Input layer\n",
    "        Dense(256, activation='relu', input_shape=(input_shape,)),\n",
    "        BatchNormalization(),\n",
    "        Dropout(0.3),\n",
    "        \n",
    "        # Hidden layers\n",
    "        Dense(128, activation='relu'),\n",
    "        BatchNormalization(),\n",
    "        Dropout(0.3),\n",
    "        \n",
    "        Dense(64, activation='relu'),\n",
    "        BatchNormalization(),\n",
    "        Dropout(0.3),\n",
    "        \n",
    "        # Output layer\n",
    "        Dense(1, activation='sigmoid')\n",
    "    ])\n",
    "    \n",
    "    # Compile model\n",
    "    model.compile(\n",
    "        optimizer='adam',\n",
    "        loss='binary_crossentropy',\n",
    "        metrics=['accuracy']\n",
    "    )\n",
    "    \n",
    "    return model\n",
    "\n",
    "# Create the model\n",
    "model = build_model(X_train_scaled.shape[1])\n",
    "model.summary()"
   ]
  },
  {
   "cell_type": "code",
   "execution_count": 16,
   "metadata": {
    "execution": {
     "iopub.execute_input": "2025-04-13T07:07:35.083112Z",
     "iopub.status.busy": "2025-04-13T07:07:35.082855Z",
     "iopub.status.idle": "2025-04-13T07:07:37.625644Z",
     "shell.execute_reply": "2025-04-13T07:07:37.624989Z",
     "shell.execute_reply.started": "2025-04-13T07:07:35.083095Z"
    },
    "trusted": true
   },
   "outputs": [
    {
     "name": "stderr",
     "output_type": "stream",
     "text": [
      "WARNING: All log messages before absl::InitializeLog() is called are written to STDERR\n",
      "I0000 00:00:1744528055.764850     135 service.cc:148] XLA service 0x7fef80008120 initialized for platform CUDA (this does not guarantee that XLA will be used). Devices:\n",
      "I0000 00:00:1744528055.765937     135 service.cc:156]   StreamExecutor device (0): Tesla T4, Compute Capability 7.5\n",
      "I0000 00:00:1744528056.044126     135 cuda_dnn.cc:529] Loaded cuDNN version 90300\n"
     ]
    },
    {
     "name": "stdout",
     "output_type": "stream",
     "text": [
      "\u001b[1m34/34\u001b[0m \u001b[32m━━━━━━━━━━━━━━━━━━━━\u001b[0m\u001b[37m\u001b[0m \u001b[1m2s\u001b[0m 2ms/step - accuracy: 0.8550 - loss: 0.5526\n"
     ]
    },
    {
     "name": "stderr",
     "output_type": "stream",
     "text": [
      "I0000 00:00:1744528056.853871     135 device_compiler.h:188] Compiled cluster using XLA!  This line is logged at most once for the lifetime of the process.\n"
     ]
    },
    {
     "name": "stdout",
     "output_type": "stream",
     "text": [
      "Test accuracy: 0.6287\n",
      "\u001b[1m34/34\u001b[0m \u001b[32m━━━━━━━━━━━━━━━━━━━━\u001b[0m\u001b[37m\u001b[0m \u001b[1m0s\u001b[0m 1ms/step  \n",
      "\n",
      "Classification Report:\n",
      "              precision    recall  f1-score   support\n",
      "\n",
      "        Real       0.58      0.97      0.72       544\n",
      "        Fake       0.90      0.29      0.44       544\n",
      "\n",
      "    accuracy                           0.63      1088\n",
      "   macro avg       0.74      0.63      0.58      1088\n",
      "weighted avg       0.74      0.63      0.58      1088\n",
      "\n"
     ]
    },
    {
     "data": {
      "image/png": "[encoded data removed]",
      "text/plain": [
       "<Figure size 800x600 with 2 Axes>"
      ]
     },
     "metadata": {},
     "output_type": "display_data"
    }
   ],
   "source": [
    "# Evaluate on test set\n",
    "test_loss, test_acc = model.evaluate(X_test_scaled, y_test)\n",
    "print(f\"Test accuracy: {test_acc:.4f}\")\n",
    "\n",
    "# Generate predictions\n",
    "y_pred_prob = model.predict(X_test_scaled)\n",
    "y_pred = (y_pred_prob > 0.5).astype(int)\n",
    "\n",
    "# Print classification report\n",
    "print(\"\\nClassification Report:\")\n",
    "print(classification_report(y_test, y_pred, target_names=['Real', 'Fake']))\n",
    "\n",
    "# Plot confusion matrix\n",
    "cm = confusion_matrix(y_test, y_pred)\n",
    "plt.figure(figsize=(8, 6))\n",
    "sns.heatmap(cm, annot=True, fmt='d', cmap='Blues',\n",
    "           xticklabels=['Real', 'Fake'],\n",
    "           yticklabels=['Real', 'Fake'])\n",
    "plt.ylabel('True Label')\n",
    "plt.xlabel('Predicted Label')\n",
    "plt.title('Confusion Matrix')\n",
    "plt.savefig('confusion_matrix.png')\n",
    "plt.show()"
   ]
  },
  {
   "cell_type": "code",
   "execution_count": 6,
   "metadata": {
    "execution": {
     "iopub.execute_input": "2025-04-13T07:08:12.977426Z",
     "iopub.status.busy": "2025-04-13T07:08:12.976840Z",
     "iopub.status.idle": "2025-04-13T07:08:13.030350Z",
     "shell.execute_reply": "2025-04-13T07:08:13.029758Z",
     "shell.execute_reply.started": "2025-04-13T07:08:12.977405Z"
    },
    "trusted": true
   },
   "outputs": [
    {
     "ename": "NameError",
     "evalue": "name 'model' is not defined",
     "output_type": "error",
     "traceback": [
      "\u001b[0;31m---------------------------------------------------------------------------\u001b[0m",
      "\u001b[0;31mNameError\u001b[0m                                 Traceback (most recent call last)",
      "Cell \u001b[0;32mIn[6], line 2\u001b[0m\n\u001b[1;32m      1\u001b[0m \u001b[38;5;66;03m# Save the model\u001b[39;00m\n\u001b[0;32m----> 2\u001b[0m \u001b[43mmodel\u001b[49m\u001b[38;5;241m.\u001b[39msave(\u001b[38;5;124m'\u001b[39m\u001b[38;5;124maudio_deepfake_detector.h5\u001b[39m\u001b[38;5;124m'\u001b[39m)\n\u001b[1;32m      3\u001b[0m \u001b[38;5;28mprint\u001b[39m(\u001b[38;5;124m\"\u001b[39m\u001b[38;5;124mModel saved to \u001b[39m\u001b[38;5;124m'\u001b[39m\u001b[38;5;124maudio_deepfake_detector.h5\u001b[39m\u001b[38;5;124m'\u001b[39m\u001b[38;5;124m\"\u001b[39m)\n",
      "\u001b[0;31mNameError\u001b[0m: name 'model' is not defined"
     ]
    }
   ],
   "source": [
    "# Save the model\n",
    "model.save('audio_deepfake_detector.h5')\n",
    "print(\"Model saved to 'audio_deepfake_detector.h5'\")"
   ]
  },
  {
   "cell_type": "code",
   "execution_count": 1,
   "metadata": {
    "execution": {
     "iopub.execute_input": "2025-04-13T07:09:00.677210Z",
     "iopub.status.busy": "2025-04-13T07:09:00.676464Z",
     "iopub.status.idle": "2025-04-13T07:09:00.685918Z",
     "shell.execute_reply": "2025-04-13T07:09:00.685135Z",
     "shell.execute_reply.started": "2025-04-13T07:09:00.677185Z"
    },
    "trusted": true
   },
   "outputs": [],
   "source": [
    "import librosa\n",
    "import tensorflow as tf\n",
    "\n",
    "def extract_features(file_path, sample_rate=16000):\n",
    "    \"\"\"Extract the same features used during training.\"\"\"\n",
    "    try:\n",
    "        # Load the audio file\n",
    "        y, sr = librosa.load(file_path, sr=sample_rate)\n",
    "        \n",
    "        # Extract features (same as in your training script)\n",
    "        mfccs = librosa.feature.mfcc(y=y, sr=sr, n_mfcc=40)\n",
    "        mfccs_mean = np.mean(mfccs.T, axis=0)\n",
    "        \n",
    "        chroma = librosa.feature.chroma_stft(y=y, sr=sr)\n",
    "        chroma_mean = np.mean(chroma.T, axis=0)\n",
    "        \n",
    "        spectral_centroids = librosa.feature.spectral_centroid(y=y, sr=sr)\n",
    "        spectral_mean = np.mean(spectral_centroids.T, axis=0)\n",
    "        \n",
    "        zcr = librosa.feature.zero_crossing_rate(y)\n",
    "        zcr_mean = np.mean(zcr.T, axis=0)\n",
    "        \n",
    "        rms = librosa.feature.rms(y=y)\n",
    "        rms_mean = np.mean(rms.T, axis=0)\n",
    "        \n",
    "        # Combine all features\n",
    "        features = np.concatenate([\n",
    "            mfccs_mean,\n",
    "            chroma_mean,\n",
    "            spectral_mean,\n",
    "            zcr_mean,\n",
    "            rms_mean\n",
    "        ])\n",
    "        \n",
    "        return features\n",
    "    \n",
    "    except Exception as e:\n",
    "        print(f\"Error processing {file_path}: {e}\")\n",
    "        return None\n",
    "\n",
    "def predict_audio(file_path, model_path='audio_deepfake_detector.h5', scaler_path='audio_deepfake_scaler.pkl'):\n",
    "    \"\"\"Predict if an audio file is real or AI-generated.\"\"\"\n",
    "    # Load model and scaler\n",
    "    model = tf.keras.models.load_model(model_path)\n",
    "    scaler = joblib.load(scaler_path)\n",
    "    \n",
    "    # Extract features\n",
    "    features = extract_features(file_path)\n",
    "    if features is None:\n",
    "        return \"Error: Could not process the audio file\"\n",
    "    \n",
    "    # Scale features\n",
    "    features_scaled = scaler.transform([features])\n",
    "    \n",
    "    # Predict\n",
    "    prediction = model.predict(features_scaled)[0][0]\n",
    "    predicted_label = 1 if prediction > 0.5 else 0\n",
    "    confidence = prediction if predicted_label == 1 else 1 - prediction\n",
    "    \n",
    "    label_map = {0: \"Real\", 1: \"AI-Generated/Fake\"}\n",
    "    \n",
    "    result = {\n",
    "        \"prediction\": label_map[predicted_label],\n",
    "        \"confidence\": float(confidence * 100),\n",
    "        \"prob_real\": float((1 - prediction) * 100),\n",
    "        \"prob_fake\": float(prediction * 100)\n",
    "    }\n",
    "    \n",
    "    return result"
   ]
  },
  {
   "cell_type": "code",
   "execution_count": 2,
   "metadata": {
    "execution": {
     "iopub.execute_input": "2025-04-13T07:12:53.997096Z",
     "iopub.status.busy": "2025-04-13T07:12:53.996818Z",
     "iopub.status.idle": "2025-04-13T07:12:54.510283Z",
     "shell.execute_reply": "2025-04-13T07:12:54.509709Z",
     "shell.execute_reply.started": "2025-04-13T07:12:53.997078Z"
    },
    "trusted": true
   },
   "outputs": [
    {
     "name": "stderr",
     "output_type": "stream",
     "text": [
      "WARNING:absl:Compiled the loaded model, but the compiled metrics have yet to be built. `model.compile_metrics` will be empty until you train or evaluate the model.\n"
     ]
    },
    {
     "ename": "NameError",
     "evalue": "name 'joblib' is not defined",
     "output_type": "error",
     "traceback": [
      "\u001b[0;31m---------------------------------------------------------------------------\u001b[0m",
      "\u001b[0;31mNameError\u001b[0m                                 Traceback (most recent call last)",
      "Cell \u001b[0;32mIn[2], line 3\u001b[0m\n\u001b[1;32m      1\u001b[0m \u001b[38;5;66;03m# To test the prediction function, replace with the path to your test audio file\u001b[39;00m\n\u001b[1;32m      2\u001b[0m test_file \u001b[38;5;241m=\u001b[39m \u001b[38;5;124m\"\u001b[39m\u001b[38;5;124m/Users/arjun.maniyani/Desktop/PESU/Class/DL/project/ai_audio_detection/anish.wav\u001b[39m\u001b[38;5;124m\"\u001b[39m  \u001b[38;5;66;03m# Replace with actual path\u001b[39;00m\n\u001b[0;32m----> 3\u001b[0m result \u001b[38;5;241m=\u001b[39m \u001b[43mpredict_audio\u001b[49m\u001b[43m(\u001b[49m\u001b[43mtest_file\u001b[49m\u001b[43m)\u001b[49m\n\u001b[1;32m      4\u001b[0m \u001b[38;5;28mprint\u001b[39m(\u001b[38;5;124mf\u001b[39m\u001b[38;5;124m\"\u001b[39m\u001b[38;5;124mPrediction: \u001b[39m\u001b[38;5;132;01m{\u001b[39;00mresult[\u001b[38;5;124m'\u001b[39m\u001b[38;5;124mprediction\u001b[39m\u001b[38;5;124m'\u001b[39m]\u001b[38;5;132;01m}\u001b[39;00m\u001b[38;5;124m\"\u001b[39m)\n\u001b[1;32m      5\u001b[0m \u001b[38;5;28mprint\u001b[39m(\u001b[38;5;124mf\u001b[39m\u001b[38;5;124m\"\u001b[39m\u001b[38;5;124mConfidence: \u001b[39m\u001b[38;5;132;01m{\u001b[39;00mresult[\u001b[38;5;124m'\u001b[39m\u001b[38;5;124mconfidence\u001b[39m\u001b[38;5;124m'\u001b[39m]\u001b[38;5;132;01m:\u001b[39;00m\u001b[38;5;124m.2f\u001b[39m\u001b[38;5;132;01m}\u001b[39;00m\u001b[38;5;124m%\u001b[39m\u001b[38;5;124m\"\u001b[39m)\n",
      "Cell \u001b[0;32mIn[1], line 45\u001b[0m, in \u001b[0;36mpredict_audio\u001b[0;34m(file_path, model_path, scaler_path)\u001b[0m\n\u001b[1;32m     43\u001b[0m \u001b[38;5;66;03m# Load model and scaler\u001b[39;00m\n\u001b[1;32m     44\u001b[0m model \u001b[38;5;241m=\u001b[39m tf\u001b[38;5;241m.\u001b[39mkeras\u001b[38;5;241m.\u001b[39mmodels\u001b[38;5;241m.\u001b[39mload_model(model_path)\n\u001b[0;32m---> 45\u001b[0m scaler \u001b[38;5;241m=\u001b[39m \u001b[43mjoblib\u001b[49m\u001b[38;5;241m.\u001b[39mload(scaler_path)\n\u001b[1;32m     47\u001b[0m \u001b[38;5;66;03m# Extract features\u001b[39;00m\n\u001b[1;32m     48\u001b[0m features \u001b[38;5;241m=\u001b[39m extract_features(file_path)\n",
      "\u001b[0;31mNameError\u001b[0m: name 'joblib' is not defined"
     ]
    }
   ],
   "source": [
    "# To test the prediction function, replace with the path to your test audio file\n",
    "test_file = \"/Users/arjun.maniyani/Desktop/PESU/Class/DL/project/ai_audio_detection/anish.wav\"  # Replace with actual path\n",
    "result = predict_audio(test_file)\n",
    "print(f\"Prediction: {result['prediction']}\")\n",
    "print(f\"Confidence: {result['confidence']:.2f}%\")\n",
    "print(f\"Probability - Real: {result['prob_real']:.2f}%, Fake: {result['prob_fake']:.2f}%\")"
   ]
  }
 ],
 "metadata": {
  "kaggle": {
   "accelerator": "nvidiaTeslaT4",
   "dataSources": [
    {
     "datasetId": 4555568,
     "sourceId": 8130934,
     "sourceType": "datasetVersion"
    },
    {
     "datasetId": 7129063,
     "sourceId": 11385127,
     "sourceType": "datasetVersion"
    }
   ],
   "dockerImageVersionId": 31011,
   "isGpuEnabled": true,
   "isInternetEnabled": true,
   "language": "python",
   "sourceType": "notebook"
  },
  "kernelspec": {
   "display_name": "venv",
   "language": "python",
   "name": "python3"
  },
  "language_info": {
   "codemirror_mode": {
    "name": "ipython",
    "version": 3
   },
   "file_extension": ".py",
   "mimetype": "text/x-python",
   "name": "python",
   "nbconvert_exporter": "python",
   "pygments_lexer": "ipython3",
   "version": "3.10.12"
  }
 },
 "nbformat": 4,
 "nbformat_minor": 4
}
